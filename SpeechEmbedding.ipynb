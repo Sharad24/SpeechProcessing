{
 "cells": [
  {
   "cell_type": "code",
   "execution_count": 1,
   "metadata": {
    "collapsed": true
   },
   "outputs": [],
   "source": [
    "import torch\n",
    "import numpy as np\n",
    "import pandas as pd\n",
    "import torch.nn as nn\n",
    "from torch.autograd import Variable\n",
    "import librosa\n",
    "import torch.nn.functional as F\n",
    "from torch.nn.parameter import Parameter"
   ]
  },
  {
   "cell_type": "code",
   "execution_count": 2,
   "metadata": {
    "collapsed": true
   },
   "outputs": [
    {
     "ename": "FileNotFoundError",
     "evalue": "File b'cv_corpus_v1/cv_corpus_v1/cv-valid-train.csv' does not exist",
     "output_type": "error",
     "traceback": [
      "\u001b[0;31m---------------------------------------------------------------------------\u001b[0m",
      "\u001b[0;31mFileNotFoundError\u001b[0m                         Traceback (most recent call last)",
      "\u001b[0;32m<ipython-input-2-c77ddb8f36e8>\u001b[0m in \u001b[0;36m<module>\u001b[0;34m()\u001b[0m\n\u001b[0;32m----> 1\u001b[0;31m \u001b[0mdf\u001b[0m\u001b[0;34m=\u001b[0m\u001b[0mpd\u001b[0m\u001b[0;34m.\u001b[0m\u001b[0mread_csv\u001b[0m\u001b[0;34m(\u001b[0m\u001b[0;34m\"cv_corpus_v1/cv_corpus_v1/cv-valid-train.csv\"\u001b[0m\u001b[0;34m)\u001b[0m\u001b[0;34m\u001b[0m\u001b[0m\n\u001b[0m\u001b[1;32m      2\u001b[0m \u001b[0mdf\u001b[0m\u001b[0;34m=\u001b[0m\u001b[0mdf\u001b[0m\u001b[0;34m.\u001b[0m\u001b[0mdropna\u001b[0m\u001b[0;34m(\u001b[0m\u001b[0mthresh\u001b[0m\u001b[0;34m=\u001b[0m\u001b[0;36m5\u001b[0m\u001b[0;34m)\u001b[0m\u001b[0;34m\u001b[0m\u001b[0m\n\u001b[1;32m      3\u001b[0m \u001b[0mdf\u001b[0m\u001b[0;34m.\u001b[0m\u001b[0mhead\u001b[0m\u001b[0;34m(\u001b[0m\u001b[0;34m)\u001b[0m\u001b[0;34m\u001b[0m\u001b[0m\n",
      "\u001b[0;32m/home/sharad/anaconda3/lib/python3.6/site-packages/pandas/io/parsers.py\u001b[0m in \u001b[0;36mparser_f\u001b[0;34m(filepath_or_buffer, sep, delimiter, header, names, index_col, usecols, squeeze, prefix, mangle_dupe_cols, dtype, engine, converters, true_values, false_values, skipinitialspace, skiprows, nrows, na_values, keep_default_na, na_filter, verbose, skip_blank_lines, parse_dates, infer_datetime_format, keep_date_col, date_parser, dayfirst, iterator, chunksize, compression, thousands, decimal, lineterminator, quotechar, quoting, escapechar, comment, encoding, dialect, tupleize_cols, error_bad_lines, warn_bad_lines, skipfooter, skip_footer, doublequote, delim_whitespace, as_recarray, compact_ints, use_unsigned, low_memory, buffer_lines, memory_map, float_precision)\u001b[0m\n\u001b[1;32m    653\u001b[0m                     skip_blank_lines=skip_blank_lines)\n\u001b[1;32m    654\u001b[0m \u001b[0;34m\u001b[0m\u001b[0m\n\u001b[0;32m--> 655\u001b[0;31m         \u001b[0;32mreturn\u001b[0m \u001b[0m_read\u001b[0m\u001b[0;34m(\u001b[0m\u001b[0mfilepath_or_buffer\u001b[0m\u001b[0;34m,\u001b[0m \u001b[0mkwds\u001b[0m\u001b[0;34m)\u001b[0m\u001b[0;34m\u001b[0m\u001b[0m\n\u001b[0m\u001b[1;32m    656\u001b[0m \u001b[0;34m\u001b[0m\u001b[0m\n\u001b[1;32m    657\u001b[0m     \u001b[0mparser_f\u001b[0m\u001b[0;34m.\u001b[0m\u001b[0m__name__\u001b[0m \u001b[0;34m=\u001b[0m \u001b[0mname\u001b[0m\u001b[0;34m\u001b[0m\u001b[0m\n",
      "\u001b[0;32m/home/sharad/anaconda3/lib/python3.6/site-packages/pandas/io/parsers.py\u001b[0m in \u001b[0;36m_read\u001b[0;34m(filepath_or_buffer, kwds)\u001b[0m\n\u001b[1;32m    403\u001b[0m \u001b[0;34m\u001b[0m\u001b[0m\n\u001b[1;32m    404\u001b[0m     \u001b[0;31m# Create the parser.\u001b[0m\u001b[0;34m\u001b[0m\u001b[0;34m\u001b[0m\u001b[0m\n\u001b[0;32m--> 405\u001b[0;31m     \u001b[0mparser\u001b[0m \u001b[0;34m=\u001b[0m \u001b[0mTextFileReader\u001b[0m\u001b[0;34m(\u001b[0m\u001b[0mfilepath_or_buffer\u001b[0m\u001b[0;34m,\u001b[0m \u001b[0;34m**\u001b[0m\u001b[0mkwds\u001b[0m\u001b[0;34m)\u001b[0m\u001b[0;34m\u001b[0m\u001b[0m\n\u001b[0m\u001b[1;32m    406\u001b[0m \u001b[0;34m\u001b[0m\u001b[0m\n\u001b[1;32m    407\u001b[0m     \u001b[0;32mif\u001b[0m \u001b[0mchunksize\u001b[0m \u001b[0;32mor\u001b[0m \u001b[0miterator\u001b[0m\u001b[0;34m:\u001b[0m\u001b[0;34m\u001b[0m\u001b[0m\n",
      "\u001b[0;32m/home/sharad/anaconda3/lib/python3.6/site-packages/pandas/io/parsers.py\u001b[0m in \u001b[0;36m__init__\u001b[0;34m(self, f, engine, **kwds)\u001b[0m\n\u001b[1;32m    760\u001b[0m             \u001b[0mself\u001b[0m\u001b[0;34m.\u001b[0m\u001b[0moptions\u001b[0m\u001b[0;34m[\u001b[0m\u001b[0;34m'has_index_names'\u001b[0m\u001b[0;34m]\u001b[0m \u001b[0;34m=\u001b[0m \u001b[0mkwds\u001b[0m\u001b[0;34m[\u001b[0m\u001b[0;34m'has_index_names'\u001b[0m\u001b[0;34m]\u001b[0m\u001b[0;34m\u001b[0m\u001b[0m\n\u001b[1;32m    761\u001b[0m \u001b[0;34m\u001b[0m\u001b[0m\n\u001b[0;32m--> 762\u001b[0;31m         \u001b[0mself\u001b[0m\u001b[0;34m.\u001b[0m\u001b[0m_make_engine\u001b[0m\u001b[0;34m(\u001b[0m\u001b[0mself\u001b[0m\u001b[0;34m.\u001b[0m\u001b[0mengine\u001b[0m\u001b[0;34m)\u001b[0m\u001b[0;34m\u001b[0m\u001b[0m\n\u001b[0m\u001b[1;32m    763\u001b[0m \u001b[0;34m\u001b[0m\u001b[0m\n\u001b[1;32m    764\u001b[0m     \u001b[0;32mdef\u001b[0m \u001b[0mclose\u001b[0m\u001b[0;34m(\u001b[0m\u001b[0mself\u001b[0m\u001b[0;34m)\u001b[0m\u001b[0;34m:\u001b[0m\u001b[0;34m\u001b[0m\u001b[0m\n",
      "\u001b[0;32m/home/sharad/anaconda3/lib/python3.6/site-packages/pandas/io/parsers.py\u001b[0m in \u001b[0;36m_make_engine\u001b[0;34m(self, engine)\u001b[0m\n\u001b[1;32m    964\u001b[0m     \u001b[0;32mdef\u001b[0m \u001b[0m_make_engine\u001b[0m\u001b[0;34m(\u001b[0m\u001b[0mself\u001b[0m\u001b[0;34m,\u001b[0m \u001b[0mengine\u001b[0m\u001b[0;34m=\u001b[0m\u001b[0;34m'c'\u001b[0m\u001b[0;34m)\u001b[0m\u001b[0;34m:\u001b[0m\u001b[0;34m\u001b[0m\u001b[0m\n\u001b[1;32m    965\u001b[0m         \u001b[0;32mif\u001b[0m \u001b[0mengine\u001b[0m \u001b[0;34m==\u001b[0m \u001b[0;34m'c'\u001b[0m\u001b[0;34m:\u001b[0m\u001b[0;34m\u001b[0m\u001b[0m\n\u001b[0;32m--> 966\u001b[0;31m             \u001b[0mself\u001b[0m\u001b[0;34m.\u001b[0m\u001b[0m_engine\u001b[0m \u001b[0;34m=\u001b[0m \u001b[0mCParserWrapper\u001b[0m\u001b[0;34m(\u001b[0m\u001b[0mself\u001b[0m\u001b[0;34m.\u001b[0m\u001b[0mf\u001b[0m\u001b[0;34m,\u001b[0m \u001b[0;34m**\u001b[0m\u001b[0mself\u001b[0m\u001b[0;34m.\u001b[0m\u001b[0moptions\u001b[0m\u001b[0;34m)\u001b[0m\u001b[0;34m\u001b[0m\u001b[0m\n\u001b[0m\u001b[1;32m    967\u001b[0m         \u001b[0;32melse\u001b[0m\u001b[0;34m:\u001b[0m\u001b[0;34m\u001b[0m\u001b[0m\n\u001b[1;32m    968\u001b[0m             \u001b[0;32mif\u001b[0m \u001b[0mengine\u001b[0m \u001b[0;34m==\u001b[0m \u001b[0;34m'python'\u001b[0m\u001b[0;34m:\u001b[0m\u001b[0;34m\u001b[0m\u001b[0m\n",
      "\u001b[0;32m/home/sharad/anaconda3/lib/python3.6/site-packages/pandas/io/parsers.py\u001b[0m in \u001b[0;36m__init__\u001b[0;34m(self, src, **kwds)\u001b[0m\n\u001b[1;32m   1580\u001b[0m         \u001b[0mkwds\u001b[0m\u001b[0;34m[\u001b[0m\u001b[0;34m'allow_leading_cols'\u001b[0m\u001b[0;34m]\u001b[0m \u001b[0;34m=\u001b[0m \u001b[0mself\u001b[0m\u001b[0;34m.\u001b[0m\u001b[0mindex_col\u001b[0m \u001b[0;32mis\u001b[0m \u001b[0;32mnot\u001b[0m \u001b[0;32mFalse\u001b[0m\u001b[0;34m\u001b[0m\u001b[0m\n\u001b[1;32m   1581\u001b[0m \u001b[0;34m\u001b[0m\u001b[0m\n\u001b[0;32m-> 1582\u001b[0;31m         \u001b[0mself\u001b[0m\u001b[0;34m.\u001b[0m\u001b[0m_reader\u001b[0m \u001b[0;34m=\u001b[0m \u001b[0mparsers\u001b[0m\u001b[0;34m.\u001b[0m\u001b[0mTextReader\u001b[0m\u001b[0;34m(\u001b[0m\u001b[0msrc\u001b[0m\u001b[0;34m,\u001b[0m \u001b[0;34m**\u001b[0m\u001b[0mkwds\u001b[0m\u001b[0;34m)\u001b[0m\u001b[0;34m\u001b[0m\u001b[0m\n\u001b[0m\u001b[1;32m   1583\u001b[0m \u001b[0;34m\u001b[0m\u001b[0m\n\u001b[1;32m   1584\u001b[0m         \u001b[0;31m# XXX\u001b[0m\u001b[0;34m\u001b[0m\u001b[0;34m\u001b[0m\u001b[0m\n",
      "\u001b[0;32mpandas/_libs/parsers.pyx\u001b[0m in \u001b[0;36mpandas._libs.parsers.TextReader.__cinit__ (pandas/_libs/parsers.c:4209)\u001b[0;34m()\u001b[0m\n",
      "\u001b[0;32mpandas/_libs/parsers.pyx\u001b[0m in \u001b[0;36mpandas._libs.parsers.TextReader._setup_parser_source (pandas/_libs/parsers.c:8873)\u001b[0;34m()\u001b[0m\n",
      "\u001b[0;31mFileNotFoundError\u001b[0m: File b'cv_corpus_v1/cv_corpus_v1/cv-valid-train.csv' does not exist"
     ]
    }
   ],
   "source": [
    "df=pd.read_csv(\"cv_corpus_v1/cv_corpus_v1/cv-valid-train.csv\")\n",
    "df=df.dropna(thresh=5)\n",
    "df.head()"
   ]
  },
  {
   "cell_type": "code",
   "execution_count": 4,
   "metadata": {
    "collapsed": true
   },
   "outputs": [
    {
     "ename": "NameError",
     "evalue": "name 'ar' is not defined",
     "output_type": "error",
     "traceback": [
      "\u001b[0;31m---------------------------------------------------------------------------\u001b[0m",
      "\u001b[0;31mNameError\u001b[0m                                 Traceback (most recent call last)",
      "\u001b[0;32m<ipython-input-4-13399fe2f889>\u001b[0m in \u001b[0;36m<module>\u001b[0;34m()\u001b[0m\n\u001b[1;32m      6\u001b[0m \u001b[0mwindow_size\u001b[0m \u001b[0;34m=\u001b[0m \u001b[0;36m1600\u001b[0m\u001b[0;34m\u001b[0m\u001b[0m\n\u001b[1;32m      7\u001b[0m \u001b[0;34m\u001b[0m\u001b[0m\n\u001b[0;32m----> 8\u001b[0;31m \u001b[0mms\u001b[0m\u001b[0;34m,\u001b[0m \u001b[0m_\u001b[0m \u001b[0;34m=\u001b[0m\u001b[0mlibrosa\u001b[0m\u001b[0;34m.\u001b[0m\u001b[0mload\u001b[0m\u001b[0;34m(\u001b[0m\u001b[0;34m\"cv_corpus_v1/cv_corpus_v1/\"\u001b[0m\u001b[0;34m+\u001b[0m\u001b[0mar\u001b[0m\u001b[0;34m[\u001b[0m\u001b[0;36m0\u001b[0m\u001b[0;34m]\u001b[0m\u001b[0;34m)\u001b[0m\u001b[0;34m\u001b[0m\u001b[0m\n\u001b[0m\u001b[1;32m      9\u001b[0m \u001b[0mms\u001b[0m\u001b[0;34m=\u001b[0m\u001b[0mms\u001b[0m\u001b[0;34m[\u001b[0m\u001b[0;34m:\u001b[0m\u001b[0;36m25000\u001b[0m\u001b[0;34m]\u001b[0m\u001b[0;34m\u001b[0m\u001b[0m\n\u001b[1;32m     10\u001b[0m \u001b[0mk\u001b[0m \u001b[0;34m=\u001b[0m \u001b[0mlibrosa\u001b[0m\u001b[0;34m.\u001b[0m\u001b[0mfeature\u001b[0m\u001b[0;34m.\u001b[0m\u001b[0mmelspectrogram\u001b[0m\u001b[0;34m(\u001b[0m\u001b[0my\u001b[0m\u001b[0;34m=\u001b[0m\u001b[0mms\u001b[0m\u001b[0;34m,\u001b[0m\u001b[0mhop_length\u001b[0m\u001b[0;34m=\u001b[0m\u001b[0mhop_length\u001b[0m\u001b[0;34m,\u001b[0m \u001b[0mn_fft\u001b[0m\u001b[0;34m=\u001b[0m\u001b[0mwindow_size\u001b[0m\u001b[0;34m,\u001b[0m\u001b[0mn_mels\u001b[0m\u001b[0;34m=\u001b[0m\u001b[0mfrequency_bands\u001b[0m\u001b[0;34m)\u001b[0m\u001b[0;34m\u001b[0m\u001b[0m\n",
      "\u001b[0;31mNameError\u001b[0m: name 'ar' is not defined"
     ]
    }
   ],
   "source": [
    "#ar=df[\"filename\"].as_matrix()\n",
    "#ar=ar[:5000]\n",
    "\n",
    "frequency_bands = 80\n",
    "hop_length = 400\n",
    "window_size = 1600\n",
    "\n",
    "ms, _ =librosa.load(\"cv_corpus_v1/cv_corpus_v1/\"+ar[0])\n",
    "ms=ms[:25000]\n",
    "k = librosa.feature.melspectrogram(y=ms,hop_length=hop_length, n_fft=window_size,n_mels=frequency_bands)\n",
    "k.shape"
   ]
  },
  {
   "cell_type": "code",
   "execution_count": 5,
   "metadata": {
    "collapsed": true
   },
   "outputs": [],
   "source": [
    "class PreNet(nn.Module):\n",
    "    def __init__(self):\n",
    "        super(PreNet,self).__init__()\n",
    "        self.layer = nn.Sequential(\n",
    "                        nn.Linear(63,128),\n",
    "                        nn.ELU(),\n",
    "                        nn.Linear(128,128),\n",
    "                        nn.ELU(),\n",
    "                        nn.Linear(128,11),\n",
    "                        nn.ELU()\n",
    "        )\n",
    "        \n",
    "    def forward(self,x):\n",
    "        x = self.layer(x)\n",
    "        return x\n",
    "    \n",
    "pnet = PreNet()\n",
    "        "
   ]
  },
  {
   "cell_type": "code",
   "execution_count": 6,
   "metadata": {},
   "outputs": [],
   "source": [
    "class ConvNet(nn.Module):\n",
    "    def __init__(self):\n",
    "        super(ConvNet,self).__init__()\n",
    "        self.layer1 = nn.Sequential(\n",
    "                        nn.Conv1d(frequency_bands,frequency_bands,12,padding=35),\n",
    "                        nn.GLU(),\n",
    "                        nn.Conv1d(frequency_bands,frequency_bands,12,padding=11),\n",
    "                        nn.GLU(),\n",
    "                        nn.Conv1d(frequency_bands,frequency_bands,12,padding=5),\n",
    "                        nn.GLU()\n",
    "        )\n",
    "        \n",
    "    def forward(self,x):\n",
    "        x = self.layer1(x)\n",
    "       \n",
    "        return x\n",
    "    \n",
    "cnet = ConvNet()\n",
    "        "
   ]
  },
  {
   "cell_type": "code",
   "execution_count": 9,
   "metadata": {},
   "outputs": [],
   "source": [
    "#z = Variable(torch.from_numpy(k).type(torch.FloatTensor))\n",
    "#z = z.view(1,1,80,63)\n",
    "#o = pnet(z)\n",
    "#o = o.view(1,80,11)\n",
    "\n",
    "#o2 = cnet(o)\n",
    "\n",
    "#newo = o+o2\n",
    "#newo.data.shape\n",
    "\n",
    "def ConvUnitOutput(conv_net_input, conv_net_output):\n",
    "    output = librosa.decompose.hpss(conv_net_input+conv_net_output)[0] #Frequency Masking\n",
    "    output = output.mean(axis=2) #Global Mean Pooling to the the time-series dimension\n",
    "    return output"
   ]
  },
  {
   "cell_type": "code",
   "execution_count": 169,
   "metadata": {
    "collapsed": true
   },
   "outputs": [],
   "source": [
    "class PreEncoderLayer(nn.Module):\n",
    "    def __init__(self):\n",
    "        super(PreEncoderLayer,self).__init__()\n",
    "        self.layer = nn.Sequential(\n",
    "                        nn.Linear(11,128),\n",
    "                        nn.ELU()\n",
    "        )\n",
    "        \n",
    "    def forward(self,x):\n",
    "        x = self.layer(x)\n",
    "        return x\n",
    "    \n",
    "PEnLnet = PreEncoderLayer()"
   ]
  },
  {
   "cell_type": "code",
   "execution_count": 180,
   "metadata": {},
   "outputs": [
    {
     "data": {
      "text/plain": [
       "torch.Size([1, 80, 128])"
      ]
     },
     "execution_count": 180,
     "metadata": {},
     "output_type": "execute_result"
    }
   ],
   "source": [
    "#keys = PEnLnet(newo)\n",
    "#queries = values = keys\n",
    "#keys.data.shape\n",
    "\n"
   ]
  },
  {
   "cell_type": "code",
   "execution_count": 11,
   "metadata": {
    "collapsed": true
   },
   "outputs": [],
   "source": [
    "class MultiHeadAttention(nn.Module):\n",
    "    def __init__(self, query_dim, key_dim, num_units, dropout_p=0.5, h=2, is_masked=False):\n",
    "        super(MultiHeadAttention, self).__init__()\n",
    "        if query_dim != key_dim:\n",
    "            raise ValueError(\"query_dim and key_dim must be the same\")\n",
    "        if num_units % h != 0:\n",
    "            raise ValueError(\"num_units must be dividable by h\")\n",
    "        if query_dim != num_units:\n",
    "            raise ValueError(\"to employ residual connection, the number of \"\n",
    "                             \"query_dim and num_units must be the same\")\n",
    "\n",
    "        self._num_units = num_units\n",
    "        self._h = h\n",
    "        self._key_dim = Variable(torch.FloatTensor([key_dim]))\n",
    "        self._dropout_p = dropout_p\n",
    "        self._is_masked = is_masked\n",
    "\n",
    "        self.query_layer = nn.Linear(query_dim, num_units, bias=False)\n",
    "        self.key_layer = nn.Linear(key_dim, num_units, bias=False)\n",
    "        self.value_layer = nn.Linear(key_dim, num_units, bias=False)\n",
    "        self.bn = nn.BatchNorm1d(num_units)\n",
    "\n",
    "    def forward(self, query, keys):\n",
    "        Q = self.query_layer(query)\n",
    "        K = self.key_layer(keys)\n",
    "        V = self.value_layer(keys)\n",
    "\n",
    "        # split each Q, K and V into h different values from dim 2\n",
    "        # and then merge them back together in dim 0\n",
    "        chunk_size = int(self._num_units / self._h)\n",
    "        Q = torch.cat(Q.split(split_size=chunk_size, dim=2), dim=0)\n",
    "        K = torch.cat(K.split(split_size=chunk_size, dim=2), dim=0)\n",
    "        V = torch.cat(V.split(split_size=chunk_size, dim=2), dim=0)\n",
    "\n",
    "        # calculate QK^T\n",
    "        attention = torch.matmul(Q, K.transpose(1, 2))\n",
    "        # normalize with sqrt(dk)\n",
    "        attention = attention / torch.sqrt(self._key_dim)\n",
    "        # use masking (usually for decoder) to prevent leftward\n",
    "        # information flow and retains auto-regressive property\n",
    "        # as said in the paper\n",
    "        if self._is_masked:\n",
    "            diag_vals = attention[0].sign().abs()\n",
    "            diag_mat = diag_vals.tril()\n",
    "            diag_mat = diag_mat.unsqueeze(0).expand(attention.size())\n",
    "            # we need to enforce converting mask to Variable, since\n",
    "            # in pytorch we can't do operation between Tensor and\n",
    "            # Variable\n",
    "            mask = Variable(\n",
    "                torch.ones(diag_mat.size()) * (-2**32 + 1), requires_grad=False)\n",
    "            # this is some trick that I use to combine the lower diagonal\n",
    "            # matrix and its masking. (diag_mat-1).abs() will reverse the value\n",
    "            # inside diag_mat, from 0 to 1 and 1 to zero. with this\n",
    "            # we don't need loop operation andn could perform our calculation\n",
    "            # faster\n",
    "            attention = (attention * diag_mat) + (mask * (diag_mat-1).abs())\n",
    "        # put it to softmax\n",
    "        attention = F.softmax(attention, dim=-1)\n",
    "        # apply dropout\n",
    "        attention = F.dropout(attention, self._dropout_p)\n",
    "        # multiplyt it with V\n",
    "        attention = torch.matmul(attention, V)\n",
    "        # convert attention back to its input original size\n",
    "        restore_chunk_size = int(attention.size(0) / self._h)\n",
    "        attention = torch.cat(\n",
    "            attention.split(split_size=restore_chunk_size, dim=0), dim=2)\n",
    "        # residual connection\n",
    "        attention += query\n",
    "        # apply batch normalization\n",
    "        attention = self.bn(attention.transpose(1, 2)).transpose(1, 2)\n",
    "\n",
    "        return attention\n"
   ]
  },
  {
   "cell_type": "code",
   "execution_count": 12,
   "metadata": {},
   "outputs": [],
   "source": [
    "attention = MultiHeadAttention(128,128,128)"
   ]
  },
  {
   "cell_type": "code",
   "execution_count": 13,
   "metadata": {
    "collapsed": true
   },
   "outputs": [],
   "source": [
    "class Encoder(nn.Module):\n",
    "    def __init__(self, dim, num_units):\n",
    "        super(TransformerEncoder, self).__init__()\n",
    "\n",
    "        self.encoders = self._build_model(dim, num_units)\n",
    "        self.bn = nn.BatchNorm1d(n_samples)\n",
    "        \n",
    "    def _build_model(self, dim, num_units):\n",
    "        layers = []\n",
    "        # for encoder, we use self-attention, which means we\n",
    "        # have query_dim and key_dim with same size\n",
    "        dim = dim\n",
    "        for unit in num_units:\n",
    "            layer = ExtendedSequential(\n",
    "                MultiHeadAttention(dim, dim, unit),\n",
    "                PositionWiseFFN(unit))\n",
    "            layers.append(layer)\n",
    "            dim = unit\n",
    "\n",
    "        return nn.ModuleList(layers)\n",
    "\n",
    "    def forward(self, inputs, conv_unit_output):\n",
    "        net_inputs = inputs\n",
    "        for enc in self.encoders:\n",
    "            net_inputs = enc(net_inputs, net_inputs)\n",
    "        net_inputs = self.bn(nn.Softsign(net_inputs))\n",
    "        net_inputs = np.matmul(net_inputs, conv_unit_output)\n",
    "        return net_inputs"
   ]
  },
  {
   "cell_type": "code",
   "execution_count": 14,
   "metadata": {
    "collapsed": true
   },
   "outputs": [],
   "source": [
    "class PositionWiseFFN(nn.Module):\n",
    "    def __init__(self, feature_size, num_units=[2048, 512]):\n",
    "        super(PositionWiseFFN, self).__init__()\n",
    "        self.ffn = self._build_ffn(feature_size, num_units)\n",
    "\n",
    "    def _build_ffn(self, feature_size, num_units):\n",
    "        layers = []\n",
    "        features = feature_size\n",
    "        for unit in num_units:\n",
    "            layers.append(nn.Linear(features, unit))\n",
    "            features = unit\n",
    "\n",
    "        return nn.Sequential(*layers)\n",
    "\n",
    "    def forward(self, X):\n",
    "        # assert if the feature size of inputs not the same as\n",
    "        # the last ffn layer, since we need both of them\n",
    "        # the same for residual network\n",
    "        assert X.size(-1) == self.ffn[-1].bias.size(-1)\n",
    "        ffn = self.ffn(X)\n",
    "        # residual network\n",
    "        ffn += X\n",
    "\n",
    "        return ffn"
   ]
  },
  {
   "cell_type": "code",
   "execution_count": 15,
   "metadata": {
    "collapsed": true
   },
   "outputs": [],
   "source": [
    "class ExtendedSequential(nn.Sequential):\n",
    "    def __init__(self, *args):\n",
    "        super(ExtendedSequential, self).__init__(*args)\n",
    "\n",
    "    def forward(self, *inputs):\n",
    "        for module in self._modules.values():\n",
    "            if isinstance(inputs, list) or isinstance(inputs, tuple):\n",
    "                inputs = module(*inputs)\n",
    "            else:\n",
    "                inputs = module(inputs)\n",
    "        return inputs"
   ]
  },
  {
   "cell_type": "code",
   "execution_count": null,
   "metadata": {
    "collapsed": true
   },
   "outputs": [],
   "source": []
  }
 ],
 "metadata": {
  "kernelspec": {
   "display_name": "Python 3",
   "language": "python",
   "name": "python3"
  },
  "language_info": {
   "codemirror_mode": {
    "name": "ipython",
    "version": 3
   },
   "file_extension": ".py",
   "mimetype": "text/x-python",
   "name": "python",
   "nbconvert_exporter": "python",
   "pygments_lexer": "ipython3",
   "version": "3.6.1"
  }
 },
 "nbformat": 4,
 "nbformat_minor": 2
}
